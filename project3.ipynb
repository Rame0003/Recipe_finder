{
 "cells": [
  {
   "cell_type": "markdown",
   "metadata": {},
   "source": [
    "## Recipe finder\n",
    "### by Abilash Ramesh"
   ]
  },
  {
   "cell_type": "markdown",
   "metadata": {},
   "source": [
    "### Load all packages"
   ]
  },
  {
   "cell_type": "code",
   "execution_count": 6,
   "metadata": {},
   "outputs": [],
   "source": [
    "import pandas as pd\n",
    "import numpy as np\n",
    "import json\n",
    "import codecs\n",
    "from sklearn.feature_extraction.text import TfidfVectorizer\n",
    "from sklearn.neighbors import KNeighborsClassifier\n"
   ]
  },
  {
   "cell_type": "markdown",
   "metadata": {},
   "source": [
    "### Load recipe dataset"
   ]
  },
  {
   "cell_type": "code",
   "execution_count": 7,
   "metadata": {},
   "outputs": [],
   "source": [
    "def get_data(filename):\n",
    "    df = pd.read_json(filename)\n",
    "    new = []\n",
    "    for s in df['ingredients']:\n",
    "        s = ' '.join(s)\n",
    "        new.append(s)\n",
    "    df['ing'] = new\n",
    "    return df\n"
   ]
  },
  {
   "cell_type": "markdown",
   "metadata": {},
   "source": [
    "### Get ingredients from user"
   ]
  },
  {
   "cell_type": "code",
   "execution_count": 8,
   "metadata": {},
   "outputs": [],
   "source": [
    "def get_user_ing(string, df):\n",
    "    user_ing = string\n",
    "    df = df.append({'ing':user_ing}, ignore_index=True)\n",
    "    return df\n"
   ]
  },
  {
   "cell_type": "markdown",
   "metadata": {},
   "source": [
    "### Train model and vectorizer"
   ]
  },
  {
   "cell_type": "code",
   "execution_count": 9,
   "metadata": {},
   "outputs": [],
   "source": [
    "def train_data(df):\n",
    "    vectorizer = TfidfVectorizer(use_idf = True, smooth_idf=True, stop_words = 'english',max_features = 4000)\n",
    "    ing_vect = vectorizer.fit_transform((df['ing'].values))\n",
    "    vec = ing_vect.todense()\n",
    "    X_train_df = vec[:-1]\n",
    "    y_train_df = df['cuisine'][:-1]\n",
    "    X_test_df = vec[-1]\n",
    "    n = 8\n",
    "    model = KNeighborsClassifier(n_neighbors = n, weights='uniform', algorithm='auto', metric='minkowski')\n",
    "    preds = model.fit(X_train_df,y_train_df)\n",
    "    return X_test_df, model\n"
   ]
  },
  {
   "cell_type": "markdown",
   "metadata": {},
   "source": [
    "### Obtain results for the given set of ingredients"
   ]
  },
  {
   "cell_type": "code",
   "execution_count": 10,
   "metadata": {},
   "outputs": [],
   "source": [
    "def get_results(test, model):\n",
    "    \n",
    "    predicted_class = model.classes_\n",
    "    predicted_single_cuisine = model.predict(test)\n",
    "    predicted_cuisine = model.predict_proba(test)[0]\n",
    "    match_perc,match_id = model.kneighbors(test)\n",
    "    pos = np.where(predicted_class == predicted_single_cuisine)\n",
    "    print (\"The model predicts that the ingredients resembles %s (%f resemblence)\" %(predicted_single_cuisine[0], predicted_cuisine[pos]*100))\n",
    "    for i in range(len(match_id[0])):\n",
    "        print ('Recipe No: %d (%f probable match)'%(match_id[0][i], match_perc[0][i]))\n"
   ]
  },
  {
   "cell_type": "markdown",
   "metadata": {},
   "source": [
    "### The recipes and the closest type of cuisine is displayed\n",
    "You will need to run the below code every time you want to find the cuisine/recipes"
   ]
  },
  {
   "cell_type": "code",
   "execution_count": 16,
   "metadata": {},
   "outputs": [],
   "source": [
    "df = get_data('yummly.json')\n",
    "df = get_user_ing('feta cheese, romaine lettuce', df)\n",
    "test, mod = train_data(df)"
   ]
  },
  {
   "cell_type": "code",
   "execution_count": 17,
   "metadata": {},
   "outputs": [
    {
     "name": "stdout",
     "output_type": "stream",
     "text": [
      "The model predicts that the ingredients resembles greek (75.000000 resemblence)\n",
      "Recipe No: 34721 (0.780192 probable match)\n",
      "Recipe No: 18509 (0.791102 probable match)\n",
      "Recipe No: 2394 (0.920194 probable match)\n",
      "Recipe No: 0 (0.949259 probable match)\n",
      "Recipe No: 22127 (0.956448 probable match)\n",
      "Recipe No: 37795 (0.960988 probable match)\n",
      "Recipe No: 8992 (0.974346 probable match)\n",
      "Recipe No: 37955 (0.992854 probable match)\n"
     ]
    }
   ],
   "source": [
    "get_results(test, mod)"
   ]
  }
 ],
 "metadata": {
  "environment": {
   "name": "common-cpu.m47",
   "type": "gcloud",
   "uri": "gcr.io/deeplearning-platform-release/base-cpu:m47"
  },
  "kernelspec": {
   "display_name": "Python 3",
   "language": "python",
   "name": "python3"
  },
  "language_info": {
   "codemirror_mode": {
    "name": "ipython",
    "version": 3
   },
   "file_extension": ".py",
   "mimetype": "text/x-python",
   "name": "python",
   "nbconvert_exporter": "python",
   "pygments_lexer": "ipython3",
   "version": "3.7.6"
  }
 },
 "nbformat": 4,
 "nbformat_minor": 4
}

{
 "cells": [
  {
   "cell_type": "code",
   "execution_count": 1,
   "metadata": {},
   "outputs": [],
   "source": [
    "import pandas as pd\n",
    "import numpy as np\n",
    "import json\n",
    "import codecs\n",
    "from sklearn.feature_extraction.text import TfidfVectorizer\n",
    "from sklearn.neighbors import KNeighborsClassifier\n",
    "from sklearn.metrics import accuracy_score\n",
    "from sklearn.model_selection import train_test_split"
   ]
  },
  {
   "cell_type": "code",
   "execution_count": 2,
   "metadata": {},
   "outputs": [],
   "source": [
    "df = pd.read_json('yummly.json')\n",
    "new = []\n",
    "for s in df['ingredients']:\n",
    "    s = ' '.join(s)\n",
    "    \n",
    "    new.append(s)\n",
    "df['ing'] = new"
   ]
  },
  {
   "cell_type": "code",
   "execution_count": 3,
   "metadata": {},
   "outputs": [],
   "source": [
    "df1 = df[:2000]"
   ]
  },
  {
   "cell_type": "code",
   "execution_count": 4,
   "metadata": {},
   "outputs": [],
   "source": [
    "vectorizer = TfidfVectorizer(use_idf = True, smooth_idf=True, stop_words = 'english',max_features = 4000)\n",
    "\n",
    "ing_vect = vectorizer.fit_transform((df1['ing'].values))\n",
    "vec = ing_vect.todense()"
   ]
  },
  {
   "cell_type": "code",
   "execution_count": 5,
   "metadata": {},
   "outputs": [],
   "source": [
    "X_train, X_test, y_train, y_test = train_test_split(vec, df1['cuisine'], test_size = 0.2, random_state = 100)"
   ]
  },
  {
   "cell_type": "code",
   "execution_count": 6,
   "metadata": {},
   "outputs": [
    {
     "name": "stdout",
     "output_type": "stream",
     "text": [
      "Accuracy is  58.75 % for K-Value: 1\n",
      "Accuracy is  53.75 % for K-Value: 2\n",
      "Accuracy is  59.0 % for K-Value: 3\n",
      "Accuracy is  59.5 % for K-Value: 4\n",
      "Accuracy is  60.75000000000001 % for K-Value: 5\n",
      "Accuracy is  61.0 % for K-Value: 6\n",
      "Accuracy is  61.75000000000001 % for K-Value: 7\n",
      "Accuracy is  62.0 % for K-Value: 8\n",
      "Accuracy is  62.25000000000001 % for K-Value: 9\n",
      "Accuracy is  64.0 % for K-Value: 10\n",
      "Accuracy is  64.5 % for K-Value: 11\n",
      "Accuracy is  63.24999999999999 % for K-Value: 12\n",
      "Accuracy is  62.74999999999999 % for K-Value: 13\n",
      "Accuracy is  62.74999999999999 % for K-Value: 14\n",
      "Accuracy is  62.25000000000001 % for K-Value: 15\n",
      "Accuracy is  63.0 % for K-Value: 16\n",
      "Accuracy is  63.24999999999999 % for K-Value: 17\n",
      "Accuracy is  63.24999999999999 % for K-Value: 18\n",
      "Accuracy is  62.5 % for K-Value: 19\n",
      "Accuracy is  63.24999999999999 % for K-Value: 20\n",
      "Accuracy is  61.75000000000001 % for K-Value: 21\n",
      "Accuracy is  61.0 % for K-Value: 22\n"
     ]
    }
   ],
   "source": [
    "for K in range(22):\n",
    "    K_value = K+1\n",
    "    neigh = KNeighborsClassifier(n_neighbors = K_value, weights='uniform', algorithm='auto', metric='minkowski')\n",
    "    neigh.fit(X_train,y_train)\n",
    "    y_pred = neigh.predict(X_test)\n",
    "    print(\"Accuracy is \", accuracy_score(y_test,y_pred)*100,\"% for K-Value:\",K_value)"
   ]
  },
  {
   "cell_type": "code",
   "execution_count": null,
   "metadata": {},
   "outputs": [],
   "source": []
  }
 ],
 "metadata": {
  "environment": {
   "name": "common-cpu.m47",
   "type": "gcloud",
   "uri": "gcr.io/deeplearning-platform-release/base-cpu:m47"
  },
  "kernelspec": {
   "display_name": "Python 3",
   "language": "python",
   "name": "python3"
  },
  "language_info": {
   "codemirror_mode": {
    "name": "ipython",
    "version": 3
   },
   "file_extension": ".py",
   "mimetype": "text/x-python",
   "name": "python",
   "nbconvert_exporter": "python",
   "pygments_lexer": "ipython3",
   "version": "3.7.6"
  }
 },
 "nbformat": 4,
 "nbformat_minor": 4
}
